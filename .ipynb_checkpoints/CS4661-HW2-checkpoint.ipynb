{
 "cells": [
  {
   "cell_type": "code",
   "execution_count": 1,
   "metadata": {},
   "outputs": [],
   "source": [
    "# Problem 1\n",
    "# Fieldname        Sunny            Rainy\n",
    "\n",
    "# Windy\n",
    "#   Yes:    -((2/6)log2(2/6) + (4/6)log2(4/6)) = -( 1/3 * (-1.58) + 2/3 * (-0.58)) = 0.91\n",
    "#   No :    -((6/8)log2(6/8) + (2/8)log2(2/8)) = -(.75 * -0.41 + .25 * -2)         = 0.81\n",
    "#   Weighted : (6/14 * 0.91 + 8/14 * 0.81)     =  .852 bits of entropy\n",
    "\n",
    "# Humidity\n",
    "#   low :  -((3/3)log2(3/3) + 0) = 0 bits\n",
    "#   mild:  -((4/6)log2(4/6) + (2/6)log2(2/6)) = -( 1/3 * -1.58 + 2/3 * -0.58) = 0.91\n",
    "#   high:  -((1/5)log2(1/5) + (4/5)log2(4/5)) = -( .2 * -2.32 + .8 * -0.32)   = 0.72\n",
    "#   Weighted: (3/14 * 0 + 6/14 * 0.91 + 5/14 * 0.72) = .647 bits of entropy\n",
    "\n",
    "# Temp\n",
    "#   low :  -((0/4) + (1)log2(1)) = 0 bits\n",
    "#   mild:  -((3/5)log2(3/5) + (2/5)log2(2/5)) = -(0.6 * -.74 + 0.4 * -1.32) = .972 bits\n",
    "#   high:  -((5/5)log2(5/5) + 0) = 0 bits\n",
    "#   Weighted:  (4/14 * 0 + 5/14 * .972 + 5/14 * 0) = .347 bits of entropy\n",
    "\n",
    "# Under this data set, Temperature is the best feature to be placed on top of the tree"
   ]
  },
  {
   "cell_type": "code",
   "execution_count": 2,
   "metadata": {},
   "outputs": [],
   "source": [
    "# import the necessary libraries for creating a classification\n",
    "from sklearn.neighbors import KNeighborsClassifier\n",
    "import numpy as np\n",
    "import pandas as pd\n",
    "\n",
    "# read the iris csv file and assign it to a Pandas DataFrame\n",
    "iris_df = pd.read_csv('https://raw.githubusercontent.com/mpourhoma/CS4661/master/iris.csv')\n"
   ]
  },
  {
   "cell_type": "code",
   "execution_count": 5,
   "metadata": {},
   "outputs": [],
   "source": [
    "# Creating the Feature Matrix for iris dataset:\n",
    "\n",
    "# create a python list of feature names that would like to pick from the dataset:\n",
    "feature_cols = ['sepal_length','sepal_width','petal_length','petal_width']\n",
    "\n",
    "# use the above list to select the features from the original DataFrame\n",
    "X = iris_df[feature_cols] \n",
    "\n",
    "# select a Series of labels (the last column) from the DataFrame\n",
    "y = iris_df['species'] # this is the original categorical labels (the latest revision of sklearn accepts non-numerical labels)\n"
   ]
  },
  {
   "cell_type": "code",
   "execution_count": 33,
   "metadata": {},
   "outputs": [],
   "source": [
    "# import the test splitting function\n",
    "from sklearn.model_selection import train_test_split\n",
    "\n",
    "# create and assign the testing & training sets\n",
    "X_train, X_test, y_train, y_test = train_test_split(X, y, test_size=0.4, random_state=6)"
   ]
  },
  {
   "cell_type": "code",
   "execution_count": 34,
   "metadata": {},
   "outputs": [
    {
     "name": "stdout",
     "output_type": "stream",
     "text": [
      "['setosa' 'virginica' 'setosa' 'setosa' 'virginica' 'versicolor'\n",
      " 'virginica' 'setosa' 'virginica' 'versicolor' 'virginica' 'versicolor'\n",
      " 'virginica' 'virginica' 'versicolor' 'versicolor' 'virginica'\n",
      " 'versicolor' 'versicolor' 'setosa' 'setosa' 'virginica' 'setosa' 'setosa'\n",
      " 'versicolor' 'versicolor' 'versicolor' 'virginica' 'setosa' 'versicolor'\n",
      " 'setosa' 'versicolor' 'setosa' 'setosa' 'versicolor' 'virginica'\n",
      " 'versicolor' 'virginica' 'versicolor' 'setosa' 'setosa' 'virginica'\n",
      " 'versicolor' 'versicolor' 'setosa' 'setosa' 'versicolor' 'setosa'\n",
      " 'setosa' 'versicolor' 'virginica' 'virginica' 'virginica' 'setosa'\n",
      " 'virginica' 'setosa' 'setosa' 'setosa' 'versicolor' 'virginica']\n"
     ]
    }
   ],
   "source": [
    "# assign a variable for the number of neighbors considered\n",
    "k = 3\n",
    "\n",
    "# create the K Neighbors Classifier object\n",
    "knn = KNeighborsClassifier(n_neighbors=k)\n",
    "\n",
    "# train the data on both the x and y training sets\n",
    "knn.fit(X_train, y_train)\n",
    "\n",
    "# test the model on the X_test set\n",
    "print(knn.predict(X_test))"
   ]
  },
  {
   "cell_type": "code",
   "execution_count": 24,
   "metadata": {},
   "outputs": [
    {
     "name": "stdout",
     "output_type": "stream",
     "text": [
      "k = 1 \n",
      " ['setosa' 'virginica' 'setosa' 'setosa' 'virginica' 'versicolor'\n",
      " 'versicolor' 'setosa' 'virginica' 'versicolor' 'virginica' 'versicolor'\n",
      " 'virginica' 'virginica' 'versicolor' 'versicolor' 'virginica'\n",
      " 'versicolor' 'versicolor' 'setosa' 'setosa' 'virginica' 'setosa' 'setosa'\n",
      " 'versicolor' 'versicolor' 'versicolor' 'virginica' 'setosa' 'versicolor'\n",
      " 'setosa' 'versicolor' 'setosa' 'setosa' 'versicolor' 'virginica'\n",
      " 'versicolor' 'virginica' 'versicolor' 'setosa' 'setosa' 'virginica'\n",
      " 'versicolor' 'versicolor' 'setosa' 'setosa' 'versicolor' 'setosa'\n",
      " 'setosa' 'versicolor' 'virginica' 'virginica' 'virginica' 'setosa'\n",
      " 'virginica' 'setosa' 'setosa' 'setosa' 'versicolor' 'virginica']\n",
      "k = 5 \n",
      " ['setosa' 'virginica' 'setosa' 'setosa' 'virginica' 'versicolor'\n",
      " 'virginica' 'setosa' 'virginica' 'versicolor' 'virginica' 'versicolor'\n",
      " 'virginica' 'virginica' 'versicolor' 'virginica' 'virginica' 'versicolor'\n",
      " 'versicolor' 'setosa' 'setosa' 'virginica' 'setosa' 'setosa' 'versicolor'\n",
      " 'versicolor' 'versicolor' 'virginica' 'setosa' 'versicolor' 'setosa'\n",
      " 'versicolor' 'setosa' 'setosa' 'versicolor' 'virginica' 'versicolor'\n",
      " 'virginica' 'versicolor' 'setosa' 'setosa' 'virginica' 'versicolor'\n",
      " 'versicolor' 'setosa' 'setosa' 'versicolor' 'setosa' 'setosa'\n",
      " 'versicolor' 'virginica' 'virginica' 'virginica' 'setosa' 'virginica'\n",
      " 'setosa' 'setosa' 'setosa' 'versicolor' 'virginica']\n",
      "\n",
      "There is increase in accuracy at k =  7 \n",
      "Change =  -0.016666666666666607\n",
      "\n",
      "There is increase in accuracy at k =  11 \n",
      "Change =  0.0\n",
      "\n",
      "There is increase in accuracy at k =  15 \n",
      "Change =  -0.033333333333333326\n",
      "\n",
      "There is increase in accuracy at k =  27 \n",
      "Change =  -0.01666666666666672\n",
      "\n",
      "There is increase in accuracy at k =  59 \n",
      "Change =  -0.09999999999999998\n"
     ]
    }
   ],
   "source": [
    "# create an iterable for the alternate k values\n",
    "alt_k_vals = [1,5,7,11,15,27,59]\n",
    "\n",
    "from sklearn.metrics import accuracy_score\n",
    "previous_accuracy = -1\n",
    "\n",
    "for val in alt_k_vals:\n",
    "    # re-train the data set with the new k value\n",
    "    knn = KNeighborsClassifier(n_neighbors=val)\n",
    "    knn.fit(X_train, y_train)\n",
    "    prediction = knn.predict(X_test)\n",
    "    \n",
    "    current_accuracy = accuracy_score(y_test, prediction)\n",
    "    # if there is no change between this prediction and the previous prediction, point it out\n",
    "    if previous_accuracy >= current_accuracy:\n",
    "        print(\"\\nThere is increase in accuracy at k = \", val,\"\\nChange = \", current_accuracy-previous_accuracy)\n",
    "    # else print normally\n",
    "    else:\n",
    "        print(\"k =\", val, \"\\n\", prediction)\n",
    "    previous_accuracy = current_accuracy\n",
    "    \n",
    "    \n",
    "# Increasing from 1 to 5 increased the accuracy; \n",
    "# however, increasing the number further generally resulted in a loss of accuracy"
   ]
  },
  {
   "cell_type": "code",
   "execution_count": 42,
   "metadata": {},
   "outputs": [
    {
     "ename": "ValueError",
     "evalue": "Unknown label type: 'continuous'",
     "output_type": "error",
     "traceback": [
      "\u001b[0;31m---------------------------------------------------------------------------\u001b[0m",
      "\u001b[0;31mValueError\u001b[0m                                Traceback (most recent call last)",
      "\u001b[0;32m<ipython-input-42-45e609d34535>\u001b[0m in \u001b[0;36m<module>\u001b[0;34m()\u001b[0m\n\u001b[1;32m      7\u001b[0m \u001b[0;32mfor\u001b[0m \u001b[0mi\u001b[0m \u001b[0;32min\u001b[0m \u001b[0mfeatures\u001b[0m\u001b[0;34m:\u001b[0m\u001b[0;34m\u001b[0m\u001b[0m\n\u001b[1;32m      8\u001b[0m     \u001b[0mX_train\u001b[0m\u001b[0;34m,\u001b[0m \u001b[0mX_test\u001b[0m\u001b[0;34m,\u001b[0m \u001b[0my_train\u001b[0m\u001b[0;34m,\u001b[0m \u001b[0my_test\u001b[0m \u001b[0;34m=\u001b[0m \u001b[0mtrain_test_split\u001b[0m\u001b[0;34m(\u001b[0m\u001b[0mX\u001b[0m\u001b[0;34m,\u001b[0m \u001b[0miris_df\u001b[0m\u001b[0;34m[\u001b[0m\u001b[0mi\u001b[0m\u001b[0;34m]\u001b[0m\u001b[0;34m,\u001b[0m \u001b[0mtest_size\u001b[0m\u001b[0;34m=\u001b[0m\u001b[0;36m0.4\u001b[0m\u001b[0;34m,\u001b[0m \u001b[0mrandom_state\u001b[0m\u001b[0;34m=\u001b[0m\u001b[0;36m6\u001b[0m\u001b[0;34m)\u001b[0m\u001b[0;34m\u001b[0m\u001b[0m\n\u001b[0;32m----> 9\u001b[0;31m     \u001b[0mknn\u001b[0m\u001b[0;34m.\u001b[0m\u001b[0mfit\u001b[0m\u001b[0;34m(\u001b[0m\u001b[0mX_train\u001b[0m\u001b[0;34m,\u001b[0m \u001b[0my_train\u001b[0m\u001b[0;34m)\u001b[0m\u001b[0;34m\u001b[0m\u001b[0m\n\u001b[0m\u001b[1;32m     10\u001b[0m     \u001b[0maccuracies\u001b[0m\u001b[0;34m[\u001b[0m\u001b[0mi\u001b[0m\u001b[0;34m]\u001b[0m \u001b[0;34m=\u001b[0m \u001b[0maccuracy_score\u001b[0m\u001b[0;34m(\u001b[0m\u001b[0my_test\u001b[0m\u001b[0;34m,\u001b[0m \u001b[0mknn\u001b[0m\u001b[0;34m.\u001b[0m\u001b[0mpredict\u001b[0m\u001b[0;34m(\u001b[0m\u001b[0mX_test\u001b[0m\u001b[0;34m)\u001b[0m\u001b[0;34m)\u001b[0m\u001b[0;34m\u001b[0m\u001b[0m\n\u001b[1;32m     11\u001b[0m \u001b[0;34m\u001b[0m\u001b[0m\n",
      "\u001b[0;32m~/anaconda3/lib/python3.6/site-packages/sklearn/neighbors/base.py\u001b[0m in \u001b[0;36mfit\u001b[0;34m(self, X, y)\u001b[0m\n\u001b[1;32m    777\u001b[0m             \u001b[0mself\u001b[0m\u001b[0;34m.\u001b[0m\u001b[0moutputs_2d_\u001b[0m \u001b[0;34m=\u001b[0m \u001b[0;32mTrue\u001b[0m\u001b[0;34m\u001b[0m\u001b[0m\n\u001b[1;32m    778\u001b[0m \u001b[0;34m\u001b[0m\u001b[0m\n\u001b[0;32m--> 779\u001b[0;31m         \u001b[0mcheck_classification_targets\u001b[0m\u001b[0;34m(\u001b[0m\u001b[0my\u001b[0m\u001b[0;34m)\u001b[0m\u001b[0;34m\u001b[0m\u001b[0m\n\u001b[0m\u001b[1;32m    780\u001b[0m         \u001b[0mself\u001b[0m\u001b[0;34m.\u001b[0m\u001b[0mclasses_\u001b[0m \u001b[0;34m=\u001b[0m \u001b[0;34m[\u001b[0m\u001b[0;34m]\u001b[0m\u001b[0;34m\u001b[0m\u001b[0m\n\u001b[1;32m    781\u001b[0m         \u001b[0mself\u001b[0m\u001b[0;34m.\u001b[0m\u001b[0m_y\u001b[0m \u001b[0;34m=\u001b[0m \u001b[0mnp\u001b[0m\u001b[0;34m.\u001b[0m\u001b[0mempty\u001b[0m\u001b[0;34m(\u001b[0m\u001b[0my\u001b[0m\u001b[0;34m.\u001b[0m\u001b[0mshape\u001b[0m\u001b[0;34m,\u001b[0m \u001b[0mdtype\u001b[0m\u001b[0;34m=\u001b[0m\u001b[0mnp\u001b[0m\u001b[0;34m.\u001b[0m\u001b[0mint\u001b[0m\u001b[0;34m)\u001b[0m\u001b[0;34m\u001b[0m\u001b[0m\n",
      "\u001b[0;32m~/anaconda3/lib/python3.6/site-packages/sklearn/utils/multiclass.py\u001b[0m in \u001b[0;36mcheck_classification_targets\u001b[0;34m(y)\u001b[0m\n\u001b[1;32m    170\u001b[0m     if y_type not in ['binary', 'multiclass', 'multiclass-multioutput',\n\u001b[1;32m    171\u001b[0m                       'multilabel-indicator', 'multilabel-sequences']:\n\u001b[0;32m--> 172\u001b[0;31m         \u001b[0;32mraise\u001b[0m \u001b[0mValueError\u001b[0m\u001b[0;34m(\u001b[0m\u001b[0;34m\"Unknown label type: %r\"\u001b[0m \u001b[0;34m%\u001b[0m \u001b[0my_type\u001b[0m\u001b[0;34m)\u001b[0m\u001b[0;34m\u001b[0m\u001b[0m\n\u001b[0m\u001b[1;32m    173\u001b[0m \u001b[0;34m\u001b[0m\u001b[0m\n\u001b[1;32m    174\u001b[0m \u001b[0;34m\u001b[0m\u001b[0m\n",
      "\u001b[0;31mValueError\u001b[0m: Unknown label type: 'continuous'"
     ]
    }
   ],
   "source": [
    "# re-create the K Neighbors Classifier object using k=3\n",
    "knn = KNeighborsClassifier(n_neighbors=k)\n",
    "\n",
    "features = ['species', 'sepal_length', 'sepal_width', 'petal_length', 'petal_width']\n",
    "accuracies = {}\n",
    "\n",
    "for i in features:\n",
    "    X_train, X_test, y_train, y_test = train_test_split(X, iris_df[i], test_size=0.4, random_state=6)\n",
    "    knn.fit(X_train, y_train)\n",
    "    accuracies[i] = accuracy_score(y_test, knn.predict(X_test))\n",
    "    \n",
    "print(accuracies)"
   ]
  },
  {
   "cell_type": "code",
   "execution_count": null,
   "metadata": {},
   "outputs": [],
   "source": []
  }
 ],
 "metadata": {
  "kernelspec": {
   "display_name": "Python 3",
   "language": "python",
   "name": "python3"
  },
  "language_info": {
   "codemirror_mode": {
    "name": "ipython",
    "version": 3
   },
   "file_extension": ".py",
   "mimetype": "text/x-python",
   "name": "python",
   "nbconvert_exporter": "python",
   "pygments_lexer": "ipython3",
   "version": "3.6.5"
  }
 },
 "nbformat": 4,
 "nbformat_minor": 2
}
