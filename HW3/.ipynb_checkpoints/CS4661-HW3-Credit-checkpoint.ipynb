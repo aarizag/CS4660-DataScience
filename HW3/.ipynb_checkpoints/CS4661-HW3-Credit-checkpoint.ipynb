{
 "cells": [
  {
   "cell_type": "code",
   "execution_count": 60,
   "metadata": {},
   "outputs": [],
   "source": [
    "# include necessary libraries\n",
    "import numpy as np\n",
    "import pandas as pd"
   ]
  },
  {
   "cell_type": "code",
   "execution_count": 61,
   "metadata": {},
   "outputs": [
    {
     "data": {
      "text/html": [
       "<div>\n",
       "<style scoped>\n",
       "    .dataframe tbody tr th:only-of-type {\n",
       "        vertical-align: middle;\n",
       "    }\n",
       "\n",
       "    .dataframe tbody tr th {\n",
       "        vertical-align: top;\n",
       "    }\n",
       "\n",
       "    .dataframe thead th {\n",
       "        text-align: right;\n",
       "    }\n",
       "</style>\n",
       "<table border=\"1\" class=\"dataframe\">\n",
       "  <thead>\n",
       "    <tr style=\"text-align: right;\">\n",
       "      <th></th>\n",
       "      <th>Income</th>\n",
       "      <th>Limit</th>\n",
       "      <th>Rating</th>\n",
       "      <th>Cards</th>\n",
       "      <th>Age</th>\n",
       "      <th>Education</th>\n",
       "      <th>Married</th>\n",
       "      <th>Balance</th>\n",
       "    </tr>\n",
       "  </thead>\n",
       "  <tbody>\n",
       "    <tr>\n",
       "      <th>0</th>\n",
       "      <td>14.891</td>\n",
       "      <td>3606</td>\n",
       "      <td>283</td>\n",
       "      <td>2</td>\n",
       "      <td>34</td>\n",
       "      <td>11</td>\n",
       "      <td>1</td>\n",
       "      <td>333</td>\n",
       "    </tr>\n",
       "    <tr>\n",
       "      <th>50</th>\n",
       "      <td>36.362</td>\n",
       "      <td>5183</td>\n",
       "      <td>376</td>\n",
       "      <td>3</td>\n",
       "      <td>49</td>\n",
       "      <td>15</td>\n",
       "      <td>1</td>\n",
       "      <td>654</td>\n",
       "    </tr>\n",
       "    <tr>\n",
       "      <th>100</th>\n",
       "      <td>21.153</td>\n",
       "      <td>3736</td>\n",
       "      <td>256</td>\n",
       "      <td>1</td>\n",
       "      <td>41</td>\n",
       "      <td>11</td>\n",
       "      <td>0</td>\n",
       "      <td>298</td>\n",
       "    </tr>\n",
       "    <tr>\n",
       "      <th>150</th>\n",
       "      <td>63.931</td>\n",
       "      <td>5728</td>\n",
       "      <td>435</td>\n",
       "      <td>3</td>\n",
       "      <td>28</td>\n",
       "      <td>14</td>\n",
       "      <td>1</td>\n",
       "      <td>581</td>\n",
       "    </tr>\n",
       "    <tr>\n",
       "      <th>200</th>\n",
       "      <td>23.949</td>\n",
       "      <td>5343</td>\n",
       "      <td>383</td>\n",
       "      <td>2</td>\n",
       "      <td>40</td>\n",
       "      <td>18</td>\n",
       "      <td>1</td>\n",
       "      <td>829</td>\n",
       "    </tr>\n",
       "    <tr>\n",
       "      <th>250</th>\n",
       "      <td>10.363</td>\n",
       "      <td>2430</td>\n",
       "      <td>191</td>\n",
       "      <td>2</td>\n",
       "      <td>47</td>\n",
       "      <td>18</td>\n",
       "      <td>1</td>\n",
       "      <td>0</td>\n",
       "    </tr>\n",
       "    <tr>\n",
       "      <th>300</th>\n",
       "      <td>21.786</td>\n",
       "      <td>4632</td>\n",
       "      <td>355</td>\n",
       "      <td>1</td>\n",
       "      <td>50</td>\n",
       "      <td>17</td>\n",
       "      <td>1</td>\n",
       "      <td>580</td>\n",
       "    </tr>\n",
       "    <tr>\n",
       "      <th>350</th>\n",
       "      <td>30.002</td>\n",
       "      <td>1561</td>\n",
       "      <td>155</td>\n",
       "      <td>4</td>\n",
       "      <td>70</td>\n",
       "      <td>13</td>\n",
       "      <td>1</td>\n",
       "      <td>0</td>\n",
       "    </tr>\n",
       "  </tbody>\n",
       "</table>\n",
       "</div>"
      ],
      "text/plain": [
       "     Income  Limit  Rating  Cards  Age  Education  Married  Balance\n",
       "0    14.891   3606     283      2   34         11        1      333\n",
       "50   36.362   5183     376      3   49         15        1      654\n",
       "100  21.153   3736     256      1   41         11        0      298\n",
       "150  63.931   5728     435      3   28         14        1      581\n",
       "200  23.949   5343     383      2   40         18        1      829\n",
       "250  10.363   2430     191      2   47         18        1        0\n",
       "300  21.786   4632     355      1   50         17        1      580\n",
       "350  30.002   1561     155      4   70         13        1        0"
      ]
     },
     "execution_count": 61,
     "metadata": {},
     "output_type": "execute_result"
    }
   ],
   "source": [
    "# Read CSV\n",
    "credit_df = pd.read_csv('Credit.csv')\n",
    "credit_df[0::50]"
   ]
  },
  {
   "cell_type": "code",
   "execution_count": 62,
   "metadata": {},
   "outputs": [
    {
     "name": "stdout",
     "output_type": "stream",
     "text": [
      "[[0.02143181 0.16411395 0.17772778 ... 0.68918919 0.8        0.        ]\n",
      " [0.00951327 0.17820493 0.18672666 ... 0.45945946 0.86666667 1.        ]\n",
      " [0.048769   0.04824629 0.04049494 ... 0.78378378 0.53333333 0.        ]\n",
      " ...\n",
      " [0.22886885 0.23908715 0.23734533 ... 0.81081081 0.8        0.        ]\n",
      " [0.632403   0.75187624 0.73903262 ... 0.40540541 0.73333333 0.        ]\n",
      " [0.2963921  0.4748813  0.43644544 ... 0.81081081 0.4        0.        ]]\n"
     ]
    }
   ],
   "source": [
    "from sklearn.preprocessing import MinMaxScaler\n",
    "from sklearn.model_selection import train_test_split\n",
    "\n",
    "# Define data columns vs target column\n",
    "features = ['Income', 'Limit', 'Rating', 'Cards', 'Age', 'Education', 'Married']\n",
    "target = 'Balance'\n",
    "\n",
    "X = credit_df[features]\n",
    "y = credit_df[target]\n",
    "\n",
    "# Create testing and training sets \n",
    "(X_train, X_test, y_train, y_test) = train_test_split(X, y, test_size=0.24, random_state=4)\n",
    "\n",
    "# Create scaler for normalizing data\n",
    "scaler = MinMaxScaler()\n",
    "X_scaled = scaler.fit_transform(X_train)\n",
    "print(X_scaled)"
   ]
  },
  {
   "cell_type": "code",
   "execution_count": 63,
   "metadata": {},
   "outputs": [
    {
     "data": {
      "text/plain": [
       "array([-1327.01928481,   747.64112114,  2752.94751262,    85.99095838,\n",
       "        -127.92745337,     8.06527562,   -41.47581319])"
      ]
     },
     "execution_count": 63,
     "metadata": {},
     "output_type": "execute_result"
    }
   ],
   "source": [
    "# Create Linear Regression model\n",
    "from sklearn.linear_model import LinearRegression\n",
    "\n",
    "my_linreg = LinearRegression()\n",
    "my_linreg.fit(X_scaled, y_train)\n",
    "\n",
    "# Coefficients of the model\n",
    "my_linreg.coef_"
   ]
  },
  {
   "cell_type": "code",
   "execution_count": 64,
   "metadata": {},
   "outputs": [
    {
     "name": "stdout",
     "output_type": "stream",
     "text": [
      "Linear Regression Mean Square Error:  161.5138549117532\n"
     ]
    }
   ],
   "source": [
    "# Test Accuracy of the model\n",
    "from sklearn.metrics import mean_squared_error\n",
    "\n",
    "X_scaled = scaler.transform(X_test)\n",
    "y_predict_lr = my_linreg.predict(X_scaled)\n",
    "\n",
    "# Calculating Mean Square Error\n",
    "mse = mean_squared_error(y_test, y_predict_lr)\n",
    "rmse = np.sqrt(mse)\n",
    "\n",
    "print(\"Linear Regression Mean Square Error: \", rmse) "
   ]
  },
  {
   "cell_type": "code",
   "execution_count": 65,
   "metadata": {},
   "outputs": [
    {
     "name": "stdout",
     "output_type": "stream",
     "text": [
      "Linear Regression: \n",
      " [-23646.90415342 -32003.04401232 -35462.64435619 -37327.60719635\n",
      " -14341.32205938 -33628.37104224 -31631.99317834 -12491.00334951\n",
      " -20749.61212176 -23204.9474346 ] \n",
      " Mean Error:  -26448.744890410482\n"
     ]
    }
   ],
   "source": [
    "# Cross Validation\n",
    "# K folds where K = 10\n",
    "\n",
    "from sklearn.model_selection import cross_val_score\n",
    "\n",
    "lr_acc_list = cross_val_score(my_linreg, X, y, cv=10, scoring='neg_mean_squared_error')\n",
    "\n",
    "print(\"Linear Regression: \\n\", lr_acc_list, \"\\n Mean Error: \", lr_acc_list.mean())"
   ]
  },
  {
   "cell_type": "code",
   "execution_count": null,
   "metadata": {},
   "outputs": [],
   "source": []
  },
  {
   "cell_type": "code",
   "execution_count": null,
   "metadata": {},
   "outputs": [],
   "source": []
  }
 ],
 "metadata": {
  "kernelspec": {
   "display_name": "Python 3",
   "language": "python",
   "name": "python3"
  },
  "language_info": {
   "codemirror_mode": {
    "name": "ipython",
    "version": 3
   },
   "file_extension": ".py",
   "mimetype": "text/x-python",
   "name": "python",
   "nbconvert_exporter": "python",
   "pygments_lexer": "ipython3",
   "version": "3.6.5"
  }
 },
 "nbformat": 4,
 "nbformat_minor": 2
}
